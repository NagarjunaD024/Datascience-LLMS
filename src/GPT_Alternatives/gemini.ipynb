{
  "nbformat": 4,
  "nbformat_minor": 0,
  "metadata": {
    "colab": {
      "provenance": [],
      "authorship_tag": "ABX9TyPnNOttb8O6KQvrNKAPsyo2",
      "include_colab_link": true
    },
    "kernelspec": {
      "name": "python3",
      "display_name": "Python 3"
    },
    "language_info": {
      "name": "python"
    }
  },
  "cells": [
    {
      "cell_type": "markdown",
      "metadata": {
        "id": "view-in-github",
        "colab_type": "text"
      },
      "source": [
        "<a href=\"https://colab.research.google.com/github/NagarjunaD024/Datascience-LLMS/blob/main/src/GPT_Alternatives/gemini.ipynb\" target=\"_parent\"><img src=\"https://colab.research.google.com/assets/colab-badge.svg\" alt=\"Open In Colab\"/></a>"
      ]
    },
    {
      "cell_type": "code",
      "execution_count": null,
      "metadata": {
        "id": "aRuYsiCRGuSC"
      },
      "outputs": [],
      "source": [
        "!pip install google-generativeai"
      ]
    },
    {
      "cell_type": "code",
      "source": [
        "import google.generativeai as genai"
      ],
      "metadata": {
        "id": "oruV6UuZHCM1"
      },
      "execution_count": null,
      "outputs": []
    },
    {
      "cell_type": "code",
      "source": [
        "genai.configure(api_key= \"your_api_key\")\n",
        "\n",
        "model = genai.GenerativeModel('gemini-1.5-flash')\n",
        "reply = model.generate_content('What is the meaning of life?')\n",
        "\n",
        "print(reply.text)"
      ],
      "metadata": {
        "id": "0Tg36SmWH8lk",
        "colab": {
          "base_uri": "https://localhost:8080/",
          "height": 280
        },
        "outputId": "521b1b85-fb71-4dc2-a9b8-4e19ee48755b"
      },
      "execution_count": null,
      "outputs": [
        {
          "output_type": "stream",
          "name": "stdout",
          "text": [
            "There's no single, universally accepted answer to the meaning of life.  It's a question that philosophers, theologians, and individuals have pondered for centuries.  The meaning is often considered subjective and personal, shaped by individual beliefs, experiences, and values.\n",
            "\n",
            "Some common perspectives include:\n",
            "\n",
            "* **Nihilism:** The belief that life is inherently without meaning or purpose.\n",
            "* **Existentialism:** The belief that individuals create their own meaning and purpose through their choices and actions.\n",
            "* **Absurdism:** The recognition of the inherent conflict between the human search for meaning and the meaninglessness of the universe, and the embrace of that conflict.\n",
            "* **Hedonism:** The pursuit of pleasure and avoidance of pain as the primary goal in life.\n",
            "* **Spiritual and religious beliefs:** Many religions offer answers about the meaning of life, often involving serving a higher power, following divine commandments, and achieving enlightenment or salvation.\n",
            "* **Humanism:**  Focusing on human values, reason, and ethics, finding meaning in human relationships, creativity, and contributing to society.\n",
            "\n",
            "\n",
            "Ultimately, the meaning of life is what you make it.  It's a question you must answer for yourself through reflection, experience, and the values you choose to live by.\n",
            "\n"
          ]
        }
      ]
    }
  ]
}
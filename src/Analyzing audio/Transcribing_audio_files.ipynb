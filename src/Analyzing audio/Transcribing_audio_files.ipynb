{
  "nbformat": 4,
  "nbformat_minor": 0,
  "metadata": {
    "colab": {
      "provenance": [],
      "authorship_tag": "ABX9TyM4F4dsB7ibPwzjZV3zfxXN",
      "include_colab_link": true
    },
    "kernelspec": {
      "name": "python3",
      "display_name": "Python 3"
    },
    "language_info": {
      "name": "python"
    }
  },
  "cells": [
    {
      "cell_type": "markdown",
      "metadata": {
        "id": "view-in-github",
        "colab_type": "text"
      },
      "source": [
        "<a href=\"https://colab.research.google.com/github/NagarjunaD024/Datascience-LLMS/blob/main/src/Analyzing%20audio/Transcribing_audio_files.ipynb\" target=\"_parent\"><img src=\"https://colab.research.google.com/assets/colab-badge.svg\" alt=\"Open In Colab\"/></a>"
      ]
    },
    {
      "cell_type": "code",
      "execution_count": null,
      "metadata": {
        "colab": {
          "base_uri": "https://localhost:8080/"
        },
        "id": "E_C1hwJfQAEF",
        "outputId": "7d5addf7-2229-4c79-8965-42fd05665361"
      },
      "outputs": [
        {
          "output_type": "stream",
          "name": "stdout",
          "text": [
            "Mounted at /content/drive\n"
          ]
        }
      ],
      "source": [
        "import argparse\n",
        "import openai\n",
        "import pandas as pd\n",
        "import time\n",
        "from IPython.display import Markdown, display, Image\n",
        "from google.colab import files\n",
        "import base64\n",
        "import os\n",
        "import requests\n",
        "import shutil\n",
        "import cv2\n",
        "\n",
        "from google.colab import drive, userdata\n",
        "from openai import OpenAI\n",
        "drive.mount('/content/drive')"
      ]
    },
    {
      "cell_type": "code",
      "source": [
        "!pip install sounddevice\n",
        "!pip install scipy\n",
        "!pip install playsound"
      ],
      "metadata": {
        "colab": {
          "base_uri": "https://localhost:8080/"
        },
        "id": "AFT4__xCQKlx",
        "outputId": "774b20df-63e1-442d-ffc1-027ed7eda61c"
      },
      "execution_count": null,
      "outputs": [
        {
          "output_type": "stream",
          "name": "stdout",
          "text": [
            "Collecting sounddevice\n",
            "  Downloading sounddevice-0.5.2-py3-none-any.whl.metadata (1.6 kB)\n",
            "Requirement already satisfied: CFFI>=1.0 in /usr/local/lib/python3.11/dist-packages (from sounddevice) (1.17.1)\n",
            "Requirement already satisfied: pycparser in /usr/local/lib/python3.11/dist-packages (from CFFI>=1.0->sounddevice) (2.22)\n",
            "Downloading sounddevice-0.5.2-py3-none-any.whl (32 kB)\n",
            "Installing collected packages: sounddevice\n",
            "Successfully installed sounddevice-0.5.2\n",
            "Requirement already satisfied: scipy in /usr/local/lib/python3.11/dist-packages (1.15.3)\n",
            "Requirement already satisfied: numpy<2.5,>=1.23.5 in /usr/local/lib/python3.11/dist-packages (from scipy) (2.0.2)\n",
            "Collecting playsound\n",
            "  Downloading playsound-1.3.0.tar.gz (7.7 kB)\n",
            "  Preparing metadata (setup.py) ... \u001b[?25l\u001b[?25hdone\n",
            "Building wheels for collected packages: playsound\n",
            "  Building wheel for playsound (setup.py) ... \u001b[?25l\u001b[?25hdone\n",
            "  Created wheel for playsound: filename=playsound-1.3.0-py3-none-any.whl size=7020 sha256=ab97517dde819787321032e72cbe25bdd2dcc6d5e0d5d89ee0124605a19202e8\n",
            "  Stored in directory: /root/.cache/pip/wheels/50/98/42/62753a9e1fb97579a0ce2f84f7db4c21c09d03bb2091e6cef4\n",
            "Successfully built playsound\n",
            "Installing collected packages: playsound\n",
            "Successfully installed playsound-1.3.0\n"
          ]
        }
      ]
    },
    {
      "cell_type": "code",
      "source": [
        "try:\n",
        "    API_KEY = userdata.get('OPENAI_API_KEY')\n",
        "    if not API_KEY:\n",
        "        raise ValueError(\"API key not found. Please add it to Colab Secrets.\")\n",
        "except ImportError:\n",
        "    # Fallback for environments other than Colab, though not recommended\n",
        "    API_KEY = os.environ.get(\"OPENAI_API_KEY\")\n",
        "    if not API_KEY:\n",
        "        raise ValueError(\"API_KEY environment variable not set.\")\n",
        "\n"
      ],
      "metadata": {
        "id": "SaYfaG2TQni6"
      },
      "execution_count": null,
      "outputs": []
    },
    {
      "cell_type": "code",
      "source": [
        "client = openai.OpenAI(api_key= userdata.get('OPENAI_API_KEY'))\n",
        "\n",
        "\n",
        "def transcribe(audio_path):\n",
        "    \"\"\" Transcribe audio file to text.\n",
        "\n",
        "    Args:\n",
        "        audio_path: path to audio file.\n",
        "\n",
        "    Returns:\n",
        "        transcribed text.\n",
        "    \"\"\"\n",
        "    with open(audio_path, 'rb') as audio_file:\n",
        "        transcription = client.audio.transcriptions.create(\n",
        "            file=audio_file, model='whisper-1')\n",
        "        return transcription.text\n"
      ],
      "metadata": {
        "id": "OCit9uwORTM2"
      },
      "execution_count": null,
      "outputs": []
    },
    {
      "cell_type": "code",
      "source": [
        "audiopath = \"/content/drive/MyDrive/Colab Notebooks/DataScience+GPT/Data/audio_data/kingdomofhappiness_12_krishnamurti_64kb.mp3\"\n",
        "\n",
        "transcript = transcribe(audiopath)\n",
        "display(Markdown(transcript))"
      ],
      "metadata": {
        "colab": {
          "base_uri": "https://localhost:8080/",
          "height": 1000
        },
        "id": "VvzZhxUARcFV",
        "outputId": "ed3aebaf-eee8-4f9d-9ad7-0b6d0d8e0d30"
      },
      "execution_count": null,
      "outputs": [
        {
          "output_type": "display_data",
          "data": {
            "text/plain": [
              "<IPython.core.display.Markdown object>"
            ],
            "text/markdown": "THE ETERNAL COMPANION As thunder is born of power, threat, and mystery, so is the voice of truth in a strong man. As the voice of thunder is thrown from mountain to mountain, and as each mountain catches it and returns it to the other, so is the voice of him, our ruler, our lawgiver, our guide and friend. In the man who is following the absolute truth, the truth of his own creation. Like the mountain, so full of unified strength, so full of power, so full of dignity, of that sense of majesty, so is the man who has found himself, who has created his own ideal, who is striding towards his own goal. Such a man is worthy, such a man is acceptable, such a man must be the leader of men, must fight, must renew and give strength to those who are weak, to those that are in the valley, to those that are in the plains, where the thunder is not so powerful as in those mountains, where the strong man only can enjoy and really appreciate the sense of tremendous awe. But a weak man, a man of the plains, to him the sense of beauty, the voice of thunder, will not convey the same meaning. The strong man must be the leader, must be the joyous one, because to him that voice, that beauty, that power, and that strength mean the end of the search and the beginning of a new life. Such a strong man must be as joyous as those treetops, those delicate branches, those few leaves that are the playthings of the passing winds, those leaves that are the delight of the sun, and those leaves that dance in ecstasy and that brilliancy because they are nearer heaven. There is in them no struggle, no fatigue, though full of vital power, yet they are yielding and know not what it means to resist. They are unconscious of the roots that give them strength, that keep them alive, that grow deep down into the earth, that struggle and grow continuously, and that have great agonies because they have to nourish such great heights. Such strength, such power to struggle, such power to give energy for creation is the kingdom of happiness. If a man would find such strength, and at the same time such joyousness, such struggle, and at the same time such ecstasy in life, such growth, and at the same time the perfect form, such a man will find that he has within him an eternal companion. Such a man will find that wherever he is, wherever he lives, wherever he breathes, he is not alone. That loneliness does not know him, nor does any extreme, but that he is walking joyously in that middle path that leads to the kingdom of heaven. Then he will find, as so many Indians who love Sri Krishna have found, that because they wanted him to be their companion, because they had in their hearts an eternal longing to be with him, he appeared to each one of them. He was their companion, their delight, their oblivion, and he appeared different according to the evolution of each, according to the evolution of the mind and of the heart of each. He was what they made him. He was what they wanted him to be, either the god or a simple friend, either the great dancer or a lazy companion, either the great creator or a feeble destroyer. His outward form depended on the minds of those who longed and on the hearts of those who had suffered and found a new breath in life. Such must be the case with each one of us who are seeking him, the embodiment of the kingdom of happiness. He appears to us as we want him to appear. He is as we are. He is as we make him to be. That is the reason that, so long as there is this longing, this desire to be with him, this desire to know him, to exult in him, so long as there is this desire, it does not matter what our stage of evolution may be. This is the only vital truth in life, for he is the embodiment of all, and as long as we understand in our heart the essence of this truth, in its simplicity, we are with him eternally. But first there must be that desire, that tremendous longing, that intense burning, till we find that garden where we can create our own image of him who is eternal. For some months past I have searched for him in all things. I have always desired to see things through him. My eyes must be his eyes, and I must see all things, whether they be small or big, whether they be dead or alive, through him. That desire has been growing in intensity. That desire has become my breath. And like so many ancient Indians, so many mystics the world over, who really longed for truth, who really searched and suffered and found him, like them I found him. And ever since then I have lived in that garden of many roses, many scents. And being in ecstasy, I breathe that scented air, the only air that makes me grow, gives me power, gives me strength and vitality, to my mind, my heart, to my very being. And possessing such strength, I can only give and not withhold. A few days ago I went for a stroll, and while I walked, I walked with him, who is my eternal companion. I walked a while, and I sat down under a tree, not thinking of anything but this one thing. And I looked, and there he was in front of me, sitting. And then I saw how nature worships him. The trees and the little blades of grass and the wind that blew, all were worshiping him. And as I looked, and as my soul gathered in strength and ecstasy, and as my body thrilled forever I was aware, I was like him. There was no difference, I was part of him, I could not distinguish a different entity, I could not disassociate myself from the eternal. And as I breathe the same air as he, I understood and know what it means to live in that kingdom of happiness, to live and play under the shadows in that garden. I knew what it means to look at the flowers and at the other travelers on the road. Everything became part of him, because all those who seek, all those who suffer, all those who are happy, are eternally his. And being in him, I understood. And that is why all of us who have that tremendous sense of longing after truth must realize that without him, the embodiment of truth, we do not understand. Without him we do not conquer the self, and we must have him in the center of our being, for then we can go away from the center like the sparks that rush forth from the flame. While I was in that state, nothing extraordinary, nothing abnormal or supernatural, while I was in that supreme ecstasy, I found that there were no hidden barriers between myself and the kingdom of happiness. I had removed all the veils that hide the holy of holies. I had entered that garden and had torn aside the veils that hide and distort and cover up that image, that perfection. And if you would follow, realizing that following does not mean blindness, then let us walk together and be companions together. I will show you that fair vision of that enchanted garden, that kingdom of happiness, that abode where there is eternity, that temple where there is the holy of holies. But you must have the eyes to see. You must have the mind well cultivated, refined and capable of great judgment. Your heart must be full of that vast love, that impersonal love, that love which knows no barriers, no distinctions, no prejudices. And you must have the strength to work, to step high or step low, either to climb the tremendous heights or to walk in the hot plains. And you must have a soul prepared for temptation. You must have many terrors. You must have no contentment. And above all, you must have that greatness which comes of vast experience, to appreciate the beauty of life in that garden. And if you will follow me to that garden, if you will search for the truth in that garden, you will find the simple truth there. You will find the purest, the sweetest, the noblest nectar of the gods. This is the only truth, the only altar at which you must worship, and that is the conclusion of the whole matter. The simplest truth can only be attained through vast experience, can only come through ecstasy of love, through immense devotion. And you will find in it the only refuge where you can shelter from all rains and hot days, from all struggles, sorrows, and pain. And once you have found it, there is no question of doubting or even hesitating, because you are then the master, you are then the ideal of thousands, the helper of many, and you are then the signpost of those that grope for those that do not see, that are still struggling in the darkness. And once we can walk together on that path of eternal peace that leads to the kingdom of happiness, then there is no question of separation, no question of loneliness, no doubt of attainment, that attainment which is perfection, which is enlightenment, because then you are the embodiment of all those things which each one of you seeks. And when you walk on that road and sport yourselves in that eternal garden, when you can shelter yourself in the shades away from the sun, then we are all friends, then we are all eternal companions, then we are all creating in the image of Him who is the Holy of Holies. And when once you have drunk this nectar, this elixir of life, it keeps you eternally young. Though you may have had vast experiences, though you may have shed many tears, have suffered greatly, there is inside you this bubbling spring well that keeps you eternally full, eternally young and joyous, like the dancing star in a dark night, because you know all, and the self, which is the destroyer of truth, the perverter of truth, is annihilated. And so you must all, if you would follow me, you must all walk to that gate, that gate that keeps you away from that eternal garden, and there you will find the many keys, and each one of you can take a key and enter, but you must have that immense delight, that immense pleasure, before you can enter that kingdom of happiness, and then you will realize that you are the master and that the wheel of birth and death has ceased. There you will find the eternal refuge, the eternal truth, and there you will lose the identity of your separate self, and there you will create new worlds, new kingdoms, new abodes for others."
          },
          "metadata": {}
        }
      ]
    }
  ]
}
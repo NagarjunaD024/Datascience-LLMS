{
  "nbformat": 4,
  "nbformat_minor": 0,
  "metadata": {
    "colab": {
      "provenance": [],
      "authorship_tag": "ABX9TyOX28N14i+7+tiQ5lbdTMB5",
      "include_colab_link": true
    },
    "kernelspec": {
      "name": "python3",
      "display_name": "Python 3"
    },
    "language_info": {
      "name": "python"
    }
  },
  "cells": [
    {
      "cell_type": "markdown",
      "metadata": {
        "id": "view-in-github",
        "colab_type": "text"
      },
      "source": [
        "<a href=\"https://colab.research.google.com/github/NagarjunaD024/Datascience-LLMS/blob/main/src/Analyzing%20Structured%20data/Natural_Language_Query_Interface_RDBMS.ipynb\" target=\"_parent\"><img src=\"https://colab.research.google.com/assets/colab-badge.svg\" alt=\"Open In Colab\"/></a>"
      ]
    },
    {
      "cell_type": "code",
      "execution_count": null,
      "metadata": {
        "colab": {
          "base_uri": "https://localhost:8080/"
        },
        "id": "LgUF-5KGmK8B",
        "outputId": "c83b9bf0-6bdf-478c-fddd-69a309e591d9"
      },
      "outputs": [
        {
          "output_type": "stream",
          "name": "stdout",
          "text": [
            "Drive already mounted at /content/drive; to attempt to forcibly remount, call drive.mount(\"/content/drive\", force_remount=True).\n"
          ]
        }
      ],
      "source": [
        "import argparse\n",
        "import openai\n",
        "import pandas as pd\n",
        "import time\n",
        "import re\n",
        "from IPython.display import Markdown, display\n",
        "from google.colab import files\n",
        "import sqlite3\n",
        "\n",
        "from google.colab import drive\n",
        "drive.mount('/content/drive')"
      ]
    },
    {
      "cell_type": "code",
      "source": [
        "from openai import OpenAI\n",
        "\n",
        "from google.colab import userdata\n",
        "\n",
        "client = OpenAI(api_key= userdata.get('secretName'))"
      ],
      "metadata": {
        "id": "akozuss5QPEb"
      },
      "execution_count": null,
      "outputs": []
    },
    {
      "cell_type": "code",
      "source": [
        "def get_structure(data_path):\n",
        "    \"\"\" Extract structure from SQLite database.\n",
        "\n",
        "    Args:\n",
        "        data_path: path to SQLite data file.\n",
        "\n",
        "    Returns:\n",
        "        text description of database structure.\n",
        "    \"\"\"\n",
        "    with sqlite3.connect(data_path) as connection:\n",
        "        cursor = connection.cursor()\n",
        "        cursor.execute(\"select sql from sqlite_master where type ='table';\")\n",
        "        table_rows = cursor.fetchall()\n",
        "        table_ddls = [r[0] for r in table_rows]\n",
        "        return '\\n'.join(table_ddls)"
      ],
      "metadata": {
        "id": "jA_KCabqzee0"
      },
      "execution_count": null,
      "outputs": []
    },
    {
      "cell_type": "code",
      "source": [
        "def create_prompt(description, question):\n",
        "    \"\"\" Generate prompt to translate question into SQL query.\n",
        "\n",
        "    Args:\n",
        "        description: text description of database structure.\n",
        "        question: question about data in natural language.\n",
        "\n",
        "    Returns:\n",
        "        prompt for question translation.\n",
        "    \"\"\"\n",
        "    parts = []\n",
        "    parts += ['Database:']\n",
        "    parts += [description]\n",
        "    parts += ['Translate this question into SQL query:']\n",
        "    parts += [question]\n",
        "    return '\\n'.join(parts)"
      ],
      "metadata": {
        "id": "u2EKZUyW4clt"
      },
      "execution_count": null,
      "outputs": []
    },
    {
      "cell_type": "code",
      "source": [
        "def call_llm(prompt):\n",
        "    \"\"\" Query large language model and return answer.\n",
        "\n",
        "    Args:\n",
        "        prompt: input prompt for language model.\n",
        "\n",
        "    Returns:\n",
        "        Answer by language model.\n",
        "    \"\"\"\n",
        "    for nr_retries in range(1, 4):\n",
        "        try:\n",
        "            response = client.chat.completions.create(\n",
        "                model='gpt-4o',\n",
        "                messages=[\n",
        "                    {'role':'user', 'content':prompt}\n",
        "                    ]\n",
        "                )\n",
        "            return response.choices[0].message.content\n",
        "        except:\n",
        "            time.sleep(nr_retries * 2)\n",
        "    raise Exception('Cannot query OpenAI model!')"
      ],
      "metadata": {
        "id": "ag6T_v-cNIyx"
      },
      "execution_count": null,
      "outputs": []
    },
    {
      "cell_type": "code",
      "source": [
        "def process_query(data_path, query):\n",
        "    \"\"\" Processes SQL query and returns result.\n",
        "\n",
        "    Args:\n",
        "        data_path: path to SQLite data file.\n",
        "        query: process this query on database.\n",
        "\n",
        "    Returns:\n",
        "        query result.\n",
        "    \"\"\"\n",
        "    with sqlite3.connect(data_path) as connection:\n",
        "        cursor = connection.cursor()\n",
        "        cursor.execute(query)\n",
        "        table_rows = cursor.fetchall()\n",
        "        table_strings = [str(r) for r in table_rows]\n",
        "        return '\\n'.join(table_strings)"
      ],
      "metadata": {
        "id": "qEOIVCbENNdC"
      },
      "execution_count": null,
      "outputs": []
    },
    {
      "cell_type": "code",
      "source": [
        "db_path = '/content/drive/MyDrive/Colab Notebooks/DataScience+GPT/Data/structured_data/games.db'\n",
        "\n",
        "data_structure = get_structure(db_path)\n",
        "print(data_structure)\n",
        "\n",
        "while True:\n",
        "\n",
        "  user_input = input('Enter question:')\n",
        "  if user_input == 'quit':\n",
        "    break\n",
        "\n",
        "  prompt = create_prompt(data_structure, user_input)\n",
        "  print(prompt)\n",
        "  answer = call_llm(prompt)\n",
        "  query = re.findall('```sql(.*)```', answer, re.DOTALL)[0]\n",
        "  print(f'SQL: {query}')\n",
        "\n",
        "  try:\n",
        "    result = process_query(db_path, query)\n",
        "    print(f'Result: {result}')\n",
        "  except:\n",
        "    print('Error processing query! Try to reformulate.')"
      ],
      "metadata": {
        "colab": {
          "base_uri": "https://localhost:8080/"
        },
        "id": "m4AGSRo2NXas",
        "outputId": "c2e7d757-f2e9-4faf-9876-372d693c316d"
      },
      "execution_count": null,
      "outputs": [
        {
          "name": "stdout",
          "output_type": "stream",
          "text": [
            "CREATE TABLE games(rank int, name text, platform text, year int, genre text, publisher text, americasales numeric, eusales numeric, japansales numeric, othersales numeric, globalsales numeric)\n",
            "Enter question:Break down game sales in Europe by the platform!\n",
            "Database:\n",
            "CREATE TABLE games(rank int, name text, platform text, year int, genre text, publisher text, americasales numeric, eusales numeric, japansales numeric, othersales numeric, globalsales numeric)\n",
            "Translate this question into SQL query:\n",
            "Break down game sales in Europe by the platform!\n",
            "SQL: \n",
            "SELECT platform, SUM(eusales) AS total_europe_sales\n",
            "FROM games\n",
            "GROUP BY platform;\n",
            "\n",
            "Result: ('2600', 5.46999999999998)\n",
            "('3DO', 0)\n",
            "('3DS', 58.52000000000003)\n",
            "('DC', 1.6900000000000002)\n",
            "('DS', 194.64999999999938)\n",
            "('GB', 47.82)\n",
            "('GBA', 75.25000000000061)\n",
            "('GC', 38.71000000000004)\n",
            "('GEN', 5.5200000000000005)\n",
            "('GG', 0)\n",
            "('N64', 41.060000000000045)\n",
            "('NES', 21.150000000000006)\n",
            "('NG', 0)\n",
            "('PC', 139.68000000000015)\n",
            "('PCFX', 0)\n",
            "('PS', 213.60000000000065)\n",
            "('PS2', 339.2899999999957)\n",
            "('PS3', 343.70999999999805)\n",
            "('PS4', 123.69999999999995)\n",
            "('PSP', 68.25000000000016)\n",
            "('PSV', 16.330000000000005)\n",
            "('SAT', 0.54)\n",
            "('SCD', 0.36)\n",
            "('SNES', 19.040000000000013)\n",
            "('TG16', 0)\n",
            "('WS', 0)\n",
            "('Wii', 268.3799999999979)\n",
            "('WiiU', 24.230000000000015)\n",
            "('X360', 280.5799999999964)\n",
            "('XB', 60.95000000000009)\n",
            "('XOne', 45.650000000000055)\n",
            "Enter question:Which three games sold more copies in Japan than in Europe?\n",
            "Database:\n",
            "CREATE TABLE games(rank int, name text, platform text, year int, genre text, publisher text, americasales numeric, eusales numeric, japansales numeric, othersales numeric, globalsales numeric)\n",
            "Translate this question into SQL query:\n",
            "Which three games sold more copies in Japan than in Europe?\n",
            "SQL: \n",
            "SELECT name, japansales, eusales\n",
            "FROM games\n",
            "WHERE japansales > eusales\n",
            "ORDER BY japansales DESC\n",
            "LIMIT 3;\n",
            "\n",
            "Result: ('Pokemon Red/Pokemon Blue', 10.22, 8.89)\n",
            "('Pokemon Gold/Pokemon Silver', 7.2, 6.18)\n",
            "('Super Mario Bros.', 6.81, 3.58)\n",
            "Enter question:quit\n"
          ]
        }
      ]
    }
  ]
}
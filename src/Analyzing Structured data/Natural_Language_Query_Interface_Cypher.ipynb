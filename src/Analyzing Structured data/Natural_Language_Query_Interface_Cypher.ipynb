{
  "nbformat": 4,
  "nbformat_minor": 0,
  "metadata": {
    "colab": {
      "provenance": [],
      "authorship_tag": "ABX9TyPxV+yIq2az5zC8wHSMJUmA",
      "include_colab_link": true
    },
    "kernelspec": {
      "name": "python3",
      "display_name": "Python 3"
    },
    "language_info": {
      "name": "python"
    }
  },
  "cells": [
    {
      "cell_type": "markdown",
      "metadata": {
        "id": "view-in-github",
        "colab_type": "text"
      },
      "source": [
        "<a href=\"https://colab.research.google.com/github/NagarjunaD024/Datascience-LLMS/blob/main/src/Analyzing%20Structured%20data/Natural_Language_Query_Interface_Cypher.ipynb\" target=\"_parent\"><img src=\"https://colab.research.google.com/assets/colab-badge.svg\" alt=\"Open In Colab\"/></a>"
      ]
    },
    {
      "cell_type": "code",
      "execution_count": null,
      "metadata": {
        "colab": {
          "base_uri": "https://localhost:8080/"
        },
        "id": "LgUF-5KGmK8B",
        "outputId": "a81bc689-1336-4c8f-c4e5-18e61e4db8b0"
      },
      "outputs": [
        {
          "output_type": "stream",
          "name": "stdout",
          "text": [
            "Drive already mounted at /content/drive; to attempt to forcibly remount, call drive.mount(\"/content/drive\", force_remount=True).\n"
          ]
        }
      ],
      "source": [
        "import argparse\n",
        "import openai\n",
        "import pandas as pd\n",
        "import time\n",
        "import re\n",
        "from IPython.display import Markdown, display\n",
        "from google.colab import files\n",
        "import sqlite3\n",
        "\n",
        "from google.colab import drive\n",
        "drive.mount('/content/drive')"
      ]
    },
    {
      "cell_type": "code",
      "source": [
        "from openai import OpenAI\n",
        "\n",
        "from google.colab import userdata\n",
        "\n",
        "client = OpenAI(api_key= userdata.get('secretName'))"
      ],
      "metadata": {
        "id": "akozuss5QPEb"
      },
      "execution_count": null,
      "outputs": []
    },
    {
      "cell_type": "code",
      "source": [
        "def create_prompt(question):\n",
        "    \"\"\" Generate prompt to translate question into Cypher query.\n",
        "\n",
        "    Args:\n",
        "        question: question about data in natural language.\n",
        "\n",
        "    Returns:\n",
        "        prompt for question translation.\n",
        "    \"\"\"\n",
        "    parts = []\n",
        "    parts += ['Neo4j Database:']\n",
        "    parts += ['Node labels: Movie, Person']\n",
        "    parts += ['Relationship types: ACTED_IN, DIRECTED,']\n",
        "    parts += ['FOLLOWS, PRODUCED, REVIEWED, WROTE']\n",
        "    parts += ['Property keys: born, name, rating, released']\n",
        "    parts += ['roles, summary, tagline, title']\n",
        "    parts += [question]\n",
        "    parts += ['Cypher Query:']\n",
        "    return '\\n'.join(parts)"
      ],
      "metadata": {
        "id": "jA_KCabqzee0"
      },
      "execution_count": null,
      "outputs": []
    },
    {
      "cell_type": "code",
      "source": [
        "def call_llm(prompt):\n",
        "    \"\"\" Query large language model and return answer.\n",
        "\n",
        "    Args:\n",
        "        prompt: input prompt for language model.\n",
        "\n",
        "    Returns:\n",
        "        Answer by language model.\n",
        "    \"\"\"\n",
        "    for nr_retries in range(1, 4):\n",
        "        try:\n",
        "            response = client.chat.completions.create(\n",
        "                model='gpt-4o',\n",
        "                messages=[\n",
        "                    {'role':'user', 'content':prompt}\n",
        "                    ]\n",
        "                )\n",
        "            return response.choices[0].message.content\n",
        "        except:\n",
        "            time.sleep(nr_retries * 2)\n",
        "    raise Exception('Cannot query OpenAI model!')"
      ],
      "metadata": {
        "id": "u2EKZUyW4clt"
      },
      "execution_count": null,
      "outputs": []
    },
    {
      "cell_type": "code",
      "source": [
        "prompt = create_prompt(\"How many movies keanu reeves acted are stored?\")\n",
        "print('--- Prompt ---')\n",
        "print(prompt)\n",
        "\n",
        "answer = call_llm(prompt)\n",
        "print('--- Answer ---')\n",
        "print(answer)\n",
        "\n",
        "query = re.findall('```cypher(.*)```', answer, re.DOTALL)[0]\n",
        "print('--- Query ---')\n",
        "print(query)"
      ],
      "metadata": {
        "colab": {
          "base_uri": "https://localhost:8080/"
        },
        "id": "m4AGSRo2NXas",
        "outputId": "6ffcbff9-0014-4d3e-b049-138b48baef98"
      },
      "execution_count": null,
      "outputs": [
        {
          "output_type": "stream",
          "name": "stdout",
          "text": [
            "--- Prompt ---\n",
            "Neo4j Database:\n",
            "Node labels: Movie, Person\n",
            "Relationship types: ACTED_IN, DIRECTED,\n",
            "FOLLOWS, PRODUCED, REVIEWED, WROTE\n",
            "Property keys: born, name, rating, released\n",
            "roles, summary, tagline, title\n",
            "How many movies keanu reeves acted are stored?\n",
            "Cypher Query:\n",
            "--- Answer ---\n",
            "To find out how many movies Keanu Reeves acted in that are stored in the Neo4j database, you can execute the following Cypher query:\n",
            "\n",
            "```cypher\n",
            "MATCH (keanu:Person {name: 'Keanu Reeves'})-[:ACTED_IN]->(m:Movie)\n",
            "RETURN count(m) AS numberOfMovies;\n",
            "```\n",
            "\n",
            "This query matches a node with the label `Person` and the property `name` equal to 'Keanu Reeves', then follows the `ACTED_IN` relationship to connected `Movie` nodes, and finally counts and returns the number of such movies.\n",
            "--- Query ---\n",
            "\n",
            "MATCH (keanu:Person {name: 'Keanu Reeves'})-[:ACTED_IN]->(m:Movie)\n",
            "RETURN count(m) AS numberOfMovies;\n",
            "\n"
          ]
        }
      ]
    }
  ]
}
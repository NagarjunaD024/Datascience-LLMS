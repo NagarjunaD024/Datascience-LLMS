{
  "nbformat": 4,
  "nbformat_minor": 0,
  "metadata": {
    "colab": {
      "provenance": [],
      "authorship_tag": "ABX9TyMHIhV7wviv0Jr+5AElFo9E",
      "include_colab_link": true
    },
    "kernelspec": {
      "name": "python3",
      "display_name": "Python 3"
    },
    "language_info": {
      "name": "python"
    }
  },
  "cells": [
    {
      "cell_type": "markdown",
      "metadata": {
        "id": "view-in-github",
        "colab_type": "text"
      },
      "source": [
        "<a href=\"https://colab.research.google.com/github/NagarjunaD024/Datascience-LLMS/blob/main/src/Frameworks%20and%20agents/langchain_agents.ipynb\" target=\"_parent\"><img src=\"https://colab.research.google.com/assets/colab-badge.svg\" alt=\"Open In Colab\"/></a>"
      ]
    },
    {
      "cell_type": "code",
      "execution_count": null,
      "metadata": {
        "id": "1JC6xNVFCnvI"
      },
      "outputs": [],
      "source": [
        "!pip install langchain\n",
        "!pip install langchain-openai\n",
        "!pip install langchainhub\n",
        "!pip install google-search-results\n",
        "!pip install langchain openai sqlalchemy\n",
        "!pip install -U langchain-community"
      ]
    },
    {
      "cell_type": "code",
      "source": [
        "from langchain import hub\n",
        "prompt = hub.pull('hwchase17/react')\n",
        "print(prompt.template)"
      ],
      "metadata": {
        "colab": {
          "base_uri": "https://localhost:8080/"
        },
        "id": "DB6E6L3m69Oj",
        "outputId": "8b4e1e1e-660b-48b6-c46f-b2df0734d2a3"
      },
      "execution_count": null,
      "outputs": [
        {
          "output_type": "stream",
          "name": "stderr",
          "text": [
            "/usr/local/lib/python3.11/dist-packages/langsmith/client.py:272: LangSmithMissingAPIKeyWarning: API key must be provided when using hosted LangSmith API\n",
            "  warnings.warn(\n"
          ]
        },
        {
          "output_type": "stream",
          "name": "stdout",
          "text": [
            "Answer the following questions as best you can. You have access to the following tools:\n",
            "\n",
            "{tools}\n",
            "\n",
            "Use the following format:\n",
            "\n",
            "Question: the input question you must answer\n",
            "Thought: you should always think about what to do\n",
            "Action: the action to take, should be one of [{tool_names}]\n",
            "Action Input: the input to the action\n",
            "Observation: the result of the action\n",
            "... (this Thought/Action/Action Input/Observation can repeat N times)\n",
            "Thought: I now know the final answer\n",
            "Final Answer: the final answer to the original input question\n",
            "\n",
            "Begin!\n",
            "\n",
            "Question: {input}\n",
            "Thought:{agent_scratchpad}\n"
          ]
        }
      ]
    },
    {
      "cell_type": "code",
      "source": [
        "from langchain.agents.load_tools import load_tools\n",
        "from langchain_community.utilities.sql_database import SQLDatabase\n",
        "from langchain_community.agent_toolkits.sql.base import create_sql_agent\n",
        "from langchain_openai import ChatOpenAI\n"
      ],
      "metadata": {
        "id": "ruMKjY1qekt2"
      },
      "execution_count": null,
      "outputs": []
    },
    {
      "cell_type": "code",
      "source": [
        "from google.colab import drive, userdata,  output\n",
        "drive.mount('/content/drive')"
      ],
      "metadata": {
        "colab": {
          "base_uri": "https://localhost:8080/"
        },
        "id": "VDrKx5djhHcW",
        "outputId": "cafd113b-4c68-4c8a-e666-f48044a357a7"
      },
      "execution_count": null,
      "outputs": [
        {
          "output_type": "stream",
          "name": "stdout",
          "text": [
            "Mounted at /content/drive\n"
          ]
        }
      ]
    },
    {
      "cell_type": "code",
      "source": [
        "llm = ChatOpenAI(api_key = userdata.get('OPENAI_API_KEY'),temperature=0, model='gpt-4o')\n",
        "db_path = '/content/drive/My Drive/Colab Notebooks/DataScience+GPT/Data/structured_data/games.db'\n",
        "db = SQLDatabase.from_uri(f'sqlite:///{db_path}')\n",
        "extra_tools = load_tools(\n",
        "    ['serpapi'], serpapi_api_key= \"4efe4e98e408d433c0d2a842e320df23743b16d813d5fce429b5665367c7193c\", llm=llm)\n",
        "\n",
        "agent = create_sql_agent(\n",
        "    llm=llm, db=db, verbose=True,\n",
        "    agent_type='openai-tools',\n",
        "    extra_tools=extra_tools)\n",
        "agent.invoke({'input': 'What was the most sold game in Europe, and how is it played?'})"
      ],
      "metadata": {
        "id": "pk0FkZrcfGb1",
        "colab": {
          "base_uri": "https://localhost:8080/"
        },
        "outputId": "410edee8-fe67-4fb7-8cef-031bd42d8491"
      },
      "execution_count": null,
      "outputs": [
        {
          "output_type": "stream",
          "name": "stdout",
          "text": [
            "\n",
            "\n",
            "\u001b[1m> Entering new SQL Agent Executor chain...\u001b[0m\n",
            "\u001b[32;1m\u001b[1;3m\n",
            "Invoking: `sql_db_list_tables` with `{}`\n",
            "\n",
            "\n",
            "\u001b[0m\u001b[38;5;200m\u001b[1;3mgames\u001b[0m\u001b[32;1m\u001b[1;3m\n",
            "Invoking: `sql_db_schema` with `{'table_names': 'games'}`\n",
            "\n",
            "\n",
            "\u001b[0m\u001b[33;1m\u001b[1;3m\n",
            "CREATE TABLE games (\n",
            "\trank INTEGER, \n",
            "\tname TEXT, \n",
            "\tplatform TEXT, \n",
            "\tyear INTEGER, \n",
            "\tgenre TEXT, \n",
            "\tpublisher TEXT, \n",
            "\tamericasales NUMERIC, \n",
            "\teusales NUMERIC, \n",
            "\tjapansales NUMERIC, \n",
            "\tothersales NUMERIC, \n",
            "\tglobalsales NUMERIC\n",
            ")\n",
            "\n",
            "/*\n",
            "3 rows from games table:\n",
            "rank\tname\tplatform\tyear\tgenre\tpublisher\tamericasales\teusales\tjapansales\tothersales\tglobalsales\n",
            "1\tWii Sports\tWii\t2006\tSports\tNintendo\t41.4900000000\t29.0200000000\t3.7700000000\t8.4600000000\t82.7400000000\n",
            "2\tSuper Mario Bros.\tNES\t1985\tPlatform\tNintendo\t29.0800000000\t3.5800000000\t6.8100000000\t0.7700000000\t40.2400000000\n",
            "3\tMario Kart Wii\tWii\t2008\tRacing\tNintendo\t15.8500000000\t12.8800000000\t3.7900000000\t3.3100000000\t35.8200000000\n",
            "*/\u001b[0m\u001b[32;1m\u001b[1;3m\n",
            "Invoking: `sql_db_query_checker` with `{'query': 'SELECT name, eusales FROM games ORDER BY eusales DESC LIMIT 1;'}`\n",
            "\n",
            "\n",
            "\u001b[0m\u001b[36;1m\u001b[1;3m```sql\n",
            "SELECT name, eusales FROM games ORDER BY eusales DESC LIMIT 1;\n",
            "```\u001b[0m\u001b[32;1m\u001b[1;3m\n",
            "Invoking: `sql_db_query` with `{'query': 'SELECT name, eusales FROM games ORDER BY eusales DESC LIMIT 1;'}`\n",
            "\n",
            "\n",
            "\u001b[0m\u001b[36;1m\u001b[1;3m[('Wii Sports', 29.02)]\u001b[0m\u001b[32;1m\u001b[1;3mThe most sold game in Europe is \"Wii Sports,\" with sales of 29.02 million units.\n",
            "\n",
            "\"Wii Sports\" is a sports video game developed and published by Nintendo for the Wii console. It consists of five sports simulations, designed to demonstrate the motion-sensing capabilities of the Wii Remote. The sports included are tennis, baseball, bowling, golf, and boxing. Players use the Wii Remote to mimic actions performed in real-life sports, such as swinging a tennis racket or rolling a bowling ball. The game is known for its intuitive controls and accessibility, making it popular among a wide range of players.\u001b[0m\n",
            "\n",
            "\u001b[1m> Finished chain.\u001b[0m\n"
          ]
        },
        {
          "output_type": "execute_result",
          "data": {
            "text/plain": [
              "{'input': 'What was the most sold game in Europe, and how is it played?',\n",
              " 'output': 'The most sold game in Europe is \"Wii Sports,\" with sales of 29.02 million units.\\n\\n\"Wii Sports\" is a sports video game developed and published by Nintendo for the Wii console. It consists of five sports simulations, designed to demonstrate the motion-sensing capabilities of the Wii Remote. The sports included are tennis, baseball, bowling, golf, and boxing. Players use the Wii Remote to mimic actions performed in real-life sports, such as swinging a tennis racket or rolling a bowling ball. The game is known for its intuitive controls and accessibility, making it popular among a wide range of players.'}"
            ]
          },
          "metadata": {},
          "execution_count": 35
        }
      ]
    }
  ]
}
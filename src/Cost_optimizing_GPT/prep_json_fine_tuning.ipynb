{
  "nbformat": 4,
  "nbformat_minor": 0,
  "metadata": {
    "colab": {
      "provenance": [],
      "authorship_tag": "ABX9TyNXXs7EsZRQ9pNLvwllUAIw",
      "include_colab_link": true
    },
    "kernelspec": {
      "name": "python3",
      "display_name": "Python 3"
    },
    "language_info": {
      "name": "python"
    }
  },
  "cells": [
    {
      "cell_type": "markdown",
      "metadata": {
        "id": "view-in-github",
        "colab_type": "text"
      },
      "source": [
        "<a href=\"https://colab.research.google.com/github/NagarjunaD024/Datascience-LLMS/blob/main/src/Cost_optimizing_GPT/prep_json_fine_tuning.ipynb\" target=\"_parent\"><img src=\"https://colab.research.google.com/assets/colab-badge.svg\" alt=\"Open In Colab\"/></a>"
      ]
    },
    {
      "cell_type": "code",
      "source": [
        " !pip install jsonlines"
      ],
      "metadata": {
        "id": "L1vUO1b97XRT"
      },
      "execution_count": null,
      "outputs": []
    },
    {
      "cell_type": "code",
      "execution_count": null,
      "metadata": {
        "colab": {
          "base_uri": "https://localhost:8080/"
        },
        "id": "oc1CdGsCSkav",
        "outputId": "090c9e19-10b6-4f69-b977-2b938a8db8d5"
      },
      "outputs": [
        {
          "output_type": "stream",
          "name": "stdout",
          "text": [
            "Drive already mounted at /content/drive; to attempt to forcibly remount, call drive.mount(\"/content/drive\", force_remount=True).\n"
          ]
        }
      ],
      "source": [
        "import openai\n",
        "import jsonlines\n",
        "import pandas\n",
        "\n",
        "from google.colab import drive, userdata,  output\n",
        "drive.mount('/content/drive')"
      ]
    },
    {
      "cell_type": "code",
      "source": [
        "client = openai.OpenAI(api_key = userdata.get('OPENAI_API_KEY'))"
      ],
      "metadata": {
        "id": "rTTcfHk5TfOu"
      },
      "execution_count": null,
      "outputs": []
    },
    {
      "cell_type": "code",
      "source": [
        "def get_samples(df):\n",
        "    \"\"\" Generate samples from data frame.\n",
        "\n",
        "    Args:\n",
        "        df: data frame containing samples.\n",
        "\n",
        "    Returns:\n",
        "        List of samples in OpenAI format for fine-tuning.\n",
        "    \"\"\"\n",
        "    samples = []\n",
        "    for _, row in df.iterrows():\n",
        "\n",
        "        text = row['text']\n",
        "        user_message = {'role':'user', 'content':text}\n",
        "\n",
        "        label = row['sentiment']\n",
        "        assistant_message = {'role':'assistant', 'content':label}\n",
        "\n",
        "        sample = {'messages':[user_message, assistant_message]}\n",
        "        samples += [sample]\n",
        "\n",
        "    return samples"
      ],
      "metadata": {
        "id": "hzQjhfowTpSE"
      },
      "execution_count": null,
      "outputs": []
    },
    {
      "cell_type": "code",
      "source": [
        "file_path = '/content/drive/My Drive/Colab Notebooks/DataScience+GPT/Data/textanalysis/train_reviews.csv'\n",
        "\n",
        "out_path = '/content/drive/My Drive/Colab Notebooks/DataScience+GPT/Data/textanalysis/train_reviews.jsonl'\n",
        "\n",
        "df = pandas.read_csv(file_path)\n",
        "samples = get_samples(df)\n",
        "\n",
        "with jsonlines.open(out_path, 'w') as file:\n",
        "    for sample in samples:\n",
        "        file.write(sample)"
      ],
      "metadata": {
        "id": "y5tFgPtBj1lE"
      },
      "execution_count": null,
      "outputs": []
    }
  ]
}
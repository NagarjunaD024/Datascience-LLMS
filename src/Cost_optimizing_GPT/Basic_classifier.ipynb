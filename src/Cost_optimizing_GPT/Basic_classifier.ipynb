{
  "nbformat": 4,
  "nbformat_minor": 0,
  "metadata": {
    "colab": {
      "provenance": [],
      "authorship_tag": "ABX9TyOVVyXFVfCNdfa3F1JtXKgv",
      "include_colab_link": true
    },
    "kernelspec": {
      "name": "python3",
      "display_name": "Python 3"
    },
    "language_info": {
      "name": "python"
    }
  },
  "cells": [
    {
      "cell_type": "markdown",
      "metadata": {
        "id": "view-in-github",
        "colab_type": "text"
      },
      "source": [
        "<a href=\"https://colab.research.google.com/github/NagarjunaD024/Datascience-LLMS/blob/main/src/Cost_optimizing_GPT/Basic_classifier.ipynb\" target=\"_parent\"><img src=\"https://colab.research.google.com/assets/colab-badge.svg\" alt=\"Open In Colab\"/></a>"
      ]
    },
    {
      "cell_type": "code",
      "execution_count": null,
      "metadata": {
        "colab": {
          "base_uri": "https://localhost:8080/"
        },
        "id": "oc1CdGsCSkav",
        "outputId": "6e3ef672-502e-4a1e-c201-69bc4fef5f85"
      },
      "outputs": [
        {
          "output_type": "stream",
          "name": "stdout",
          "text": [
            "Mounted at /content/drive\n"
          ]
        }
      ],
      "source": [
        "import openai\n",
        "import pandas as pd\n",
        "import time\n",
        "\n",
        "from google.colab import drive, userdata,  output\n",
        "drive.mount('/content/drive')"
      ]
    },
    {
      "cell_type": "code",
      "source": [
        "client = openai.OpenAI(api_key = userdata.get('OPENAI_API_KEY'))"
      ],
      "metadata": {
        "id": "rTTcfHk5TfOu"
      },
      "execution_count": null,
      "outputs": []
    },
    {
      "cell_type": "code",
      "source": [
        "def create_prompt(text):\n",
        "    \"\"\" Create prompt for sentiment classification.\n",
        "\n",
        "    Args:\n",
        "        text: text to classify.\n",
        "\n",
        "    Returns:\n",
        "        Prompt for text classification.\n",
        "    \"\"\"\n",
        "    task = 'Is the sentiment positive or negative?'\n",
        "    answer_format = 'Answer (\"pos\"/\"neg\")'\n",
        "    return f'{text}\\n{task}\\n{answer_format}:'"
      ],
      "metadata": {
        "id": "hzQjhfowTpSE"
      },
      "execution_count": null,
      "outputs": []
    },
    {
      "cell_type": "code",
      "source": [
        "def call_llm(prompt):\n",
        "    \"\"\" Query large language model and return answer.\n",
        "\n",
        "    Args:\n",
        "        prompt: input prompt for language model.\n",
        "\n",
        "    Returns:\n",
        "        Answer by language model and total number of tokens.\n",
        "    \"\"\"\n",
        "    for nr_retries in range(1, 4):\n",
        "        try:\n",
        "            response = client.chat.completions.create(\n",
        "                model='gpt-3.5-turbo',\n",
        "                messages=[\n",
        "                    {'role':'user', 'content':prompt}\n",
        "                    ],\n",
        "                temperature=0\n",
        "                )\n",
        "\n",
        "            answer = response.choices[0].message.content\n",
        "            nr_tokens = response.usage.total_tokens\n",
        "            return answer, nr_tokens\n",
        "\n",
        "        except Exception as e:\n",
        "            print(f'Exception: {e}')\n",
        "            time.sleep(nr_retries * 2)\n",
        "\n",
        "    raise Exception('Cannot query OpenAI model!')\n"
      ],
      "metadata": {
        "id": "nJllEtulTtNA"
      },
      "execution_count": null,
      "outputs": []
    },
    {
      "cell_type": "code",
      "source": [
        "file_path = '/content/drive/My Drive/Colab Notebooks/DataScience+GPT/Data/textanalysis/reviews.csv'\n",
        "\n",
        "df = pd.read_csv(file_path)\n",
        "\n",
        "nr_correct = 0\n",
        "nr_tokens = 0\n",
        "\n",
        "for _, row in df.iterrows():\n",
        "\n",
        "    text = row['text']\n",
        "    prompt = create_prompt(text)\n",
        "    label, current_tokens = call_llm(prompt)\n",
        "\n",
        "    ground_truth = row['sentiment']\n",
        "    if label == ground_truth:\n",
        "        nr_correct += 1\n",
        "    nr_tokens += current_tokens\n",
        "\n",
        "    print(f'Label: {label}; Ground truth: {ground_truth}')\n",
        "\n",
        "print(f'Number of correct labels:\\t{nr_correct}')\n",
        "print(f'Number of tokens used   :\\t{nr_tokens}')"
      ],
      "metadata": {
        "colab": {
          "base_uri": "https://localhost:8080/"
        },
        "id": "H1VBXIZzTwYF",
        "outputId": "51cb722a-1c20-4d3b-fef4-53e43ae24659"
      },
      "execution_count": null,
      "outputs": [
        {
          "output_type": "stream",
          "name": "stdout",
          "text": [
            "Label: neg; Ground truth: neg\n",
            "Label: neg; Ground truth: neg\n",
            "Label: neg; Ground truth: neg\n",
            "Label: neg; Ground truth: neg\n",
            "Label: pos; Ground truth: pos\n",
            "Label: pos; Ground truth: neg\n",
            "Label: pos; Ground truth: neg\n",
            "Label: neg; Ground truth: neg\n",
            "Label: Negative; Ground truth: pos\n",
            "Label: neg; Ground truth: neg\n",
            "Number of correct labels:\t7\n",
            "Number of tokens used   :\t1940\n"
          ]
        }
      ]
    }
  ]
}
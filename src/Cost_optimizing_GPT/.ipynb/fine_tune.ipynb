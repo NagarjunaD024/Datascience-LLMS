{
  "nbformat": 4,
  "nbformat_minor": 0,
  "metadata": {
    "colab": {
      "provenance": [],
      "authorship_tag": "ABX9TyMiR3trBgFZBIbOD1Uo1qQr",
      "include_colab_link": true
    },
    "kernelspec": {
      "name": "python3",
      "display_name": "Python 3"
    },
    "language_info": {
      "name": "python"
    }
  },
  "cells": [
    {
      "cell_type": "markdown",
      "metadata": {
        "id": "view-in-github",
        "colab_type": "text"
      },
      "source": [
        "<a href=\"https://colab.research.google.com/github/NagarjunaD024/Datascience-LLMS/blob/main/src/Cost_optimizing_GPT/fine_tune.ipynb\" target=\"_parent\"><img src=\"https://colab.research.google.com/assets/colab-badge.svg\" alt=\"Open In Colab\"/></a>"
      ]
    },
    {
      "cell_type": "code",
      "execution_count": null,
      "metadata": {
        "colab": {
          "base_uri": "https://localhost:8080/"
        },
        "id": "oc1CdGsCSkav",
        "outputId": "11ad9548-9d62-49c8-b583-cd6cba1728d2"
      },
      "outputs": [
        {
          "output_type": "stream",
          "name": "stdout",
          "text": [
            "Mounted at /content/drive\n"
          ]
        }
      ],
      "source": [
        "import openai\n",
        "import pandas as pd\n",
        "import time\n",
        "\n",
        "from google.colab import drive, userdata,  output\n",
        "drive.mount('/content/drive')"
      ]
    },
    {
      "cell_type": "code",
      "source": [
        "client = openai.OpenAI(api_key = userdata.get('OPENAI_API_KEY'))"
      ],
      "metadata": {
        "id": "rTTcfHk5TfOu"
      },
      "execution_count": null,
      "outputs": []
    },
    {
      "cell_type": "code",
      "source": [
        "\"\"\"\n",
        "in_path = '/content/drive/My Drive/Colab Notebooks/DataScience+GPT/Data/textanalysis/train_reviews.jsonl'\n",
        "\n",
        "reply = client.files.create(\n",
        "  file=open(in_path, 'rb'), purpose='fine-tune')\n",
        "file_id = reply.id\n",
        "\n",
        "reply = client.fine_tuning.jobs.create(\n",
        "  training_file=file_id, model='gpt-3.5-turbo')\n",
        "job_id = reply.id\n",
        "print(f'Job ID: {job_id}')\n",
        "\n",
        "status = None\n",
        "start_s = time.time()\n",
        "\n",
        "while not (status == 'succeeded'):\n",
        "\n",
        "  time.sleep(5)\n",
        "  total_s = time.time() - start_s\n",
        "  print(f'Fine-tuning since {total_s} seconds.')\n",
        "\n",
        "  reply = client.fine_tuning.jobs.retrieve(job_id)\n",
        "  status = reply.status\n",
        "  print(f'Status: {status}')\n",
        "\n",
        "print(f'Fine-tuning is finished!')\n",
        "\n",
        "model_id = reply.fine_tuned_model\n",
        "print(f'Model ID: {model_id}')\n",
        "\"\"\""
      ],
      "metadata": {
        "id": "hzQjhfowTpSE",
        "colab": {
          "base_uri": "https://localhost:8080/",
          "height": 87
        },
        "outputId": "043edbe6-8fa9-44ad-90e7-9df25e24d66b"
      },
      "execution_count": null,
      "outputs": [
        {
          "output_type": "execute_result",
          "data": {
            "text/plain": [
              "\"\\nin_path = '/content/drive/My Drive/Colab Notebooks/DataScience+GPT/Data/textanalysis/train_reviews.jsonl'\\n\\nreply = client.files.create(\\n  file=open(in_path, 'rb'), purpose='fine-tune')\\nfile_id = reply.id\\n\\nreply = client.fine_tuning.jobs.create(\\n  training_file=file_id, model='gpt-3.5-turbo')\\njob_id = reply.id\\nprint(f'Job ID: {job_id}')\\n\\nstatus = None\\nstart_s = time.time()\\n\\nwhile not (status == 'succeeded'):\\n  \\n  time.sleep(5)\\n  total_s = time.time() - start_s\\n  print(f'Fine-tuning since {total_s} seconds.')\\n  \\n  reply = client.fine_tuning.jobs.retrieve(job_id)\\n  status = reply.status\\n  print(f'Status: {status}')\\n    \\nprint(f'Fine-tuning is finished!')\\n\\nmodel_id = reply.fine_tuned_model\\nprint(f'Model ID: {model_id}')\\n\""
            ],
            "application/vnd.google.colaboratory.intrinsic+json": {
              "type": "string"
            }
          },
          "metadata": {},
          "execution_count": 5
        }
      ]
    },
    {
      "cell_type": "code",
      "source": [
        "job_info = client.fine_tuning.jobs.retrieve(\"ftjob-CiKcX24PkDB2TyoKm1BkvyVJ\")\n",
        "print(job_info)"
      ],
      "metadata": {
        "colab": {
          "base_uri": "https://localhost:8080/"
        },
        "id": "S-nldfK5iPIM",
        "outputId": "1146aa3b-ecf5-450c-8b2a-eeb693d1aa9a"
      },
      "execution_count": null,
      "outputs": [
        {
          "output_type": "stream",
          "name": "stdout",
          "text": [
            "FineTuningJob(id='ftjob-CiKcX24PkDB2TyoKm1BkvyVJ', created_at=1751443605, error=Error(code=None, message=None, param=None), fine_tuned_model='ft:gpt-3.5-turbo-0125:personal::BoowtouP', finished_at=1751451945, hyperparameters=Hyperparameters(batch_size=1, learning_rate_multiplier=2.0, n_epochs=3), model='gpt-3.5-turbo-0125', object='fine_tuning.job', organization_id='org-NAI7mh36xjkp9eGNfbFkxQtA', result_files=['file-Fh6LDhpXGgqTZwC9eUKqrn'], seed=1287908361, status='succeeded', trained_tokens=91170, training_file='file-W5FWJU2hgRoF3V7tY1o7ga', validation_file=None, estimated_finish=None, integrations=[], metadata=None, method=Method(type='supervised', dpo=None, reinforcement=None, supervised=SupervisedMethod(hyperparameters=SupervisedHyperparameters(batch_size=1, learning_rate_multiplier=2.0, n_epochs=3))), user_provided_suffix=None, usage_metrics=None, shared_with_openai=False, eval_id=None)\n"
          ]
        }
      ]
    },
    {
      "cell_type": "code",
      "source": [
        "def create_prompt(text):\n",
        "  \"\"\" Create prompt for sentiment classification.\n",
        "  Args:\n",
        "  text: text to classify.\n",
        "  Returns:\n",
        "  Prompt for text classification.\n",
        "  \"\"\"\n",
        "  return text"
      ],
      "metadata": {
        "id": "GJZg77HBkYyK"
      },
      "execution_count": null,
      "outputs": []
    },
    {
      "cell_type": "code",
      "source": [
        "def call_llm(prompt):\n",
        "    \"\"\" Query large language model and return answer.\n",
        "\n",
        "    Args:\n",
        "        prompt: input prompt for language model.\n",
        "\n",
        "    Returns:\n",
        "        Answer by language model and total number of tokens.\n",
        "    \"\"\"\n",
        "    for nr_retries in range(1, 4):\n",
        "        try:\n",
        "            response = client.chat.completions.create(\n",
        "                model= \"ft:gpt-3.5-turbo-0125:personal::BoowtouP\",\n",
        "                messages=[\n",
        "                    {'role':'user', 'content':prompt}\n",
        "                    ],\n",
        "                temperature=0\n",
        "                )\n",
        "\n",
        "            answer = response.choices[0].message.content\n",
        "            nr_tokens = response.usage.total_tokens\n",
        "            return answer, nr_tokens\n",
        "\n",
        "        except Exception as e:\n",
        "            print(f'Exception: {e}')\n",
        "            time.sleep(nr_retries * 2)\n",
        "\n",
        "    raise Exception('Cannot query OpenAI model!')"
      ],
      "metadata": {
        "id": "_EhALifNn-Xk"
      },
      "execution_count": null,
      "outputs": []
    },
    {
      "cell_type": "code",
      "source": [
        "file_path = '/content/drive/My Drive/Colab Notebooks/DataScience+GPT/Data/textanalysis/reviews.csv'\n",
        "\n",
        "df = pd.read_csv(file_path)\n",
        "\n",
        "nr_correct = 0\n",
        "nr_tokens = 0\n",
        "\n",
        "for _, row in df.iterrows():\n",
        "\n",
        "    text = row['text']\n",
        "    prompt = create_prompt(text)\n",
        "    label, current_tokens = call_llm(prompt)\n",
        "\n",
        "    ground_truth = row['sentiment']\n",
        "    if label == ground_truth:\n",
        "        nr_correct += 1\n",
        "    nr_tokens += current_tokens\n",
        "\n",
        "    print(f'Label: {label}; Ground truth: {ground_truth}')\n",
        "\n",
        "print(f'Number of correct labels:\\t{nr_correct}')\n",
        "print(f'Number of tokens used   :\\t{nr_tokens}')"
      ],
      "metadata": {
        "colab": {
          "base_uri": "https://localhost:8080/"
        },
        "id": "VD5D7A0jkm1K",
        "outputId": "40cd5e4a-879d-4835-f80e-3f1d16b4f555"
      },
      "execution_count": null,
      "outputs": [
        {
          "output_type": "stream",
          "name": "stdout",
          "text": [
            "Label: neg; Ground truth: neg\n",
            "Label: neg; Ground truth: neg\n",
            "Label: neg; Ground truth: neg\n",
            "Label: neg; Ground truth: neg\n",
            "Label: pos; Ground truth: pos\n",
            "Label: pos; Ground truth: neg\n",
            "Label: pos; Ground truth: neg\n",
            "Label: neg; Ground truth: neg\n",
            "Label: neg; Ground truth: pos\n",
            "Label: neg; Ground truth: neg\n",
            "Number of correct labels:\t7\n",
            "Number of tokens used   :\t1797\n"
          ]
        }
      ]
    }
  ]
}
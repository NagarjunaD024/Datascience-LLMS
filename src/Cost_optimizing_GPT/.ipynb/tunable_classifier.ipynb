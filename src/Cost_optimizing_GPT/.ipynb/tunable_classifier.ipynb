{
  "nbformat": 4,
  "nbformat_minor": 0,
  "metadata": {
    "colab": {
      "provenance": [],
      "authorship_tag": "ABX9TyPuZ6UntOzl9oQpJTfpQkJD",
      "include_colab_link": true
    },
    "kernelspec": {
      "name": "python3",
      "display_name": "Python 3"
    },
    "language_info": {
      "name": "python"
    }
  },
  "cells": [
    {
      "cell_type": "markdown",
      "metadata": {
        "id": "view-in-github",
        "colab_type": "text"
      },
      "source": [
        "<a href=\"https://colab.research.google.com/github/NagarjunaD024/Datascience-LLMS/blob/main/src/Cost_optimizing_GPT/tunable_classifier.ipynb\" target=\"_parent\"><img src=\"https://colab.research.google.com/assets/colab-badge.svg\" alt=\"Open In Colab\"/></a>"
      ]
    },
    {
      "cell_type": "code",
      "execution_count": null,
      "metadata": {
        "colab": {
          "base_uri": "https://localhost:8080/"
        },
        "id": "oc1CdGsCSkav",
        "outputId": "f532ff9f-d04d-44d6-929f-b98b76e08321"
      },
      "outputs": [
        {
          "output_type": "stream",
          "name": "stdout",
          "text": [
            "Mounted at /content/drive\n"
          ]
        }
      ],
      "source": [
        "import openai\n",
        "import pandas as pd\n",
        "import time\n",
        "\n",
        "from google.colab import drive, userdata,  output\n",
        "drive.mount('/content/drive')"
      ]
    },
    {
      "cell_type": "code",
      "source": [
        "client = openai.OpenAI(api_key = userdata.get('OPENAI_API_KEY'))"
      ],
      "metadata": {
        "id": "rTTcfHk5TfOu"
      },
      "execution_count": null,
      "outputs": []
    },
    {
      "cell_type": "code",
      "source": [
        "def create_single_text_prompt(text, label):\n",
        "    \"\"\" Create prompt for classifying one single text.\n",
        "\n",
        "    Args:\n",
        "        text: text to classify.\n",
        "        label: correct class label (empty if unavailable).\n",
        "\n",
        "    Returns:\n",
        "        Prompt for text classification.\n",
        "    \"\"\"\n",
        "    task = 'Is the sentiment positive or negative?'\n",
        "    answer_format = 'Answer (\"pos\"/\"neg\")'\n",
        "    return f'{text}\\n{task}\\n{answer_format}:{label}'"
      ],
      "metadata": {
        "id": "hzQjhfowTpSE"
      },
      "execution_count": null,
      "outputs": []
    },
    {
      "cell_type": "code",
      "source": [
        "def create_prompt(text, samples):\n",
        "    \"\"\" Generates prompt for sentiment classification.\n",
        "\n",
        "    Args:\n",
        "        text: classify this text.\n",
        "        samples: integrate these samples into prompt.\n",
        "\n",
        "    Returns:\n",
        "        Input for LLM.\n",
        "    \"\"\"\n",
        "    parts = []\n",
        "    for _, row in samples.iterrows():\n",
        "        sample_text = row['text']\n",
        "        sample_label = row['sentiment']\n",
        "        prompt = create_single_text_prompt(sample_text, sample_label)\n",
        "        parts += [prompt]\n",
        "\n",
        "    prompt = create_single_text_prompt(text, '')\n",
        "    parts += [prompt]\n",
        "    return '\\n'.join(parts)\n"
      ],
      "metadata": {
        "id": "nJllEtulTtNA"
      },
      "execution_count": null,
      "outputs": []
    },
    {
      "cell_type": "code",
      "source": [
        "def call_llm(prompt, model, max_tokens, out_tokens):\n",
        "    \"\"\" Query large language model and return answer.\n",
        "\n",
        "    Args:\n",
        "        prompt: input prompt for language model.\n",
        "        model: name of OpenAI model to choose.\n",
        "        max_tokens: maximal output length in tokens.\n",
        "        out_tokens: prioritize these token IDs in output.\n",
        "\n",
        "    Returns:\n",
        "        Answer by language model and total number of tokens.\n",
        "    \"\"\"\n",
        "    optional_parameters = {}\n",
        "    if max_tokens:\n",
        "        optional_parameters['max_tokens'] = max_tokens\n",
        "    if out_tokens:\n",
        "        logit_bias = {int(tid):100 for tid in out_tokens.split(',')}\n",
        "        optional_parameters['logit_bias'] = logit_bias\n",
        "\n",
        "    for nr_retries in range(1, 4):\n",
        "        try:\n",
        "            response = client.chat.completions.create(\n",
        "                model=model,\n",
        "                messages=[\n",
        "                    {'role':'user', 'content':prompt}\n",
        "                    ],\n",
        "                **optional_parameters, temperature=0\n",
        "                )\n",
        "\n",
        "            answer = response.choices[0].message.content\n",
        "            nr_tokens = response.usage.total_tokens\n",
        "            return answer, nr_tokens\n",
        "\n",
        "        except Exception as e:\n",
        "            print(f'Exception: {e}')\n",
        "            time.sleep(nr_retries * 2)\n",
        "\n",
        "    raise Exception('Cannot query OpenAI model!')"
      ],
      "metadata": {
        "id": "_7WYOHMtjJWn"
      },
      "execution_count": null,
      "outputs": []
    },
    {
      "cell_type": "code",
      "source": [
        "file_path = '/content/drive/My Drive/Colab Notebooks/DataScience+GPT/Data/textanalysis/reviews.csv'\n",
        "\n",
        "sample_path = '/content/drive/My Drive/Colab Notebooks/DataScience+GPT/Data/textanalysis/train_reviews.csv'\n",
        "\n",
        "df = pd.read_csv(file_path)\n",
        "\n",
        "\n",
        "\n",
        "model = 'gpt-3.5-turbo'\n",
        "nr_samples = 1\n",
        "out_tokens = '981,29875'\n",
        "max_tokens = 1\n",
        "\n",
        "\n",
        "samples = pd.DataFrame()\n",
        "if nr_samples:\n",
        "    samples = pd.read_csv(sample_path)\n",
        "    samples = samples[:nr_samples]\n",
        "\n",
        "nr_correct = 0\n",
        "nr_tokens = 0\n",
        "\n",
        "for _, row in df.iterrows():\n",
        "\n",
        "    text = row['text']\n",
        "    prompt = create_prompt(text, samples)\n",
        "    label, current_tokens = call_llm(\n",
        "        prompt, model,\n",
        "        max_tokens,\n",
        "        out_tokens)\n",
        "\n",
        "    ground_truth = row['sentiment']\n",
        "    if label == ground_truth:\n",
        "        nr_correct += 1\n",
        "    nr_tokens += current_tokens\n",
        "\n",
        "    print(f'Label: {label}; Ground truth: {ground_truth}')\n",
        "\n",
        "print(f'Number of correct labels:\\t{nr_correct}')\n",
        "print(f'Number of tokens used   :\\t{nr_tokens}')"
      ],
      "metadata": {
        "colab": {
          "base_uri": "https://localhost:8080/"
        },
        "id": "y5tFgPtBj1lE",
        "outputId": "c09224d0-072c-4b0c-faad-2fdf2430cbf4"
      },
      "execution_count": null,
      "outputs": [
        {
          "output_type": "stream",
          "name": "stdout",
          "text": [
            "Label: neg; Ground truth: neg\n",
            "Label: neg; Ground truth: neg\n",
            "Label: neg; Ground truth: neg\n",
            "Label: neg; Ground truth: neg\n",
            "Label: pos; Ground truth: pos\n",
            "Label: pos; Ground truth: neg\n",
            "Label: pos; Ground truth: neg\n",
            "Label: neg; Ground truth: neg\n",
            "Label: pos; Ground truth: pos\n",
            "Label: neg; Ground truth: neg\n",
            "Number of correct labels:\t8\n",
            "Number of tokens used   :\t3790\n"
          ]
        }
      ]
    }
  ]
}